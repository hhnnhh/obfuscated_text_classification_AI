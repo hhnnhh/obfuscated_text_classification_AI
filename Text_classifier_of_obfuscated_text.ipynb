{
  "nbformat": 4,
  "nbformat_minor": 0,
  "metadata": {
    "colab": {
      "name": "Text_classifier_of_obfuscated_text.ipynb",
      "provenance": [],
      "collapsed_sections": [],
      "authorship_tag": "ABX9TyOV1ZNB2tccqsd/pdXfKkO/",
      "include_colab_link": true
    },
    "kernelspec": {
      "name": "python3",
      "display_name": "Python 3"
    }
  },
  "cells": [
    {
      "cell_type": "markdown",
      "metadata": {
        "id": "view-in-github",
        "colab_type": "text"
      },
      "source": [
        "<a href=\"https://colab.research.google.com/github/hhnnhh/obfuscated_text_classification_AI/blob/main/Text_classifier_of_obfuscated_text.ipynb\" target=\"_parent\"><img src=\"https://colab.research.google.com/assets/colab-badge.svg\" alt=\"Open In Colab\"/></a>"
      ]
    },
    {
      "cell_type": "markdown",
      "metadata": {
        "id": "0hkB01o90hWz"
      },
      "source": [
        "### obfuscated text classifier\n",
        "### by Dr. Hannah Bohle, 09.09.2020\n",
        "\n",
        "\n"
      ]
    },
    {
      "cell_type": "markdown",
      "metadata": {
        "id": "adkCwwUM02O5"
      },
      "source": [
        "**Table of Content:**\n",
        "1. loading data as df\n",
        "2. Exploratory Data Analysis of training and test data\n",
        "4. Defining train_test_split from \"train\"\n",
        "4. Baseline Model (Logistic Regression, SVM)\n",
        "4. Neural Net: Long-Short-Term Memory (LSTM) Recurrent Neural Net (RNN)\n",
        "4. Predicting labels of \"test\" data\n"
      ]
    },
    {
      "cell_type": "markdown",
      "metadata": {
        "id": "xPymIxdOZFMZ"
      },
      "source": [
        "**Task:**\n",
        "\n",
        "Model is expected to classify a given line as belonging to one of the following 12 novels. The sentences of the novels have been obfuscated, however the patterns in them are preserved. \n",
        "\n",
        "Obfuscated text example: \n",
        "0: satwamuluhqgulamlrmvezuhqvkrpmletwulcitwskuhlejfjaskljfsklajeifuweiondov\n",
        "\n",
        "Novels are: \n",
        "\n",
        "0: alice_in_wonderland\n",
        "1: dracula\n",
        "2: dubliners\n",
        "3: great_expectations\n",
        "4: hard_times\n",
        "5: huckleberry_finn\n",
        "6: les_miserable\n",
        "7: moby_dick\n",
        "8: oliver_twist\n",
        "9: peter_pan\n",
        "10: talw_of_two_cities\n",
        "11: tom_sawyer\n",
        "\n",
        "**Results:**\n",
        "While simple machine learning algorithms such as Support Vector Machines achieve an accuracy of 0.34. A deep learning algorithm achieves 0.85 Hence, it performs much better. In this case, a Recurrent Neural Net (RNN) Long-Short-Term (LSTM) Neural Net was used. \n",
        "\n",
        "**Procedure:**\n",
        "\n",
        "To construct a baseline, I trained a Logistic Regression and a SVM. In a next step, I constructed a Long Short Term Memory (LSTM) Recurrent Neural Net (RNN). \n",
        "\n",
        "I started with the LSTM RNN because it is very powerful when working with text sequences. However, when working with obfuscated text, the \n",
        "main advantage of a LSTM RNN - its capability of processing *sequential* data - is not \n",
        "beneficial as the obfuscation makes it impossible to use the sequential information. \n",
        "\n",
        "Hence, working with Convolutional NN might even gain better results. Therefore, for me, the next steps would probably be to investigate deep learning algorithms suitable for obfuscated text. \n",
        "\n",
        "Second, working with the hyperparameters such as learning rate and with helper functions such as EarlyStopping would probably also improve the accuracy of the given model. \n",
        "\n",
        "**Results:**\n",
        "\n",
        "The EDA shows that the data set is imbalanced, number of available sequences is ranging from 500 char sequences (Alice in Wonderland) to 5000 char sequences (Moby Dick). Therefore, in addition to plotting the confusion matrix, I decided to observe the f1-score of the baseline models. \n",
        "\n",
        "As a baseline, a Logistic Regression and a Support Vector Machine were trained. Because of the obfuscation, only the frequency of the letters could be used ( = Bag of Words CountVectorizer on char level). As we can see, the f1-score was very different for the 12 books. The algorithm worked well on two of the books, #5: huckleberry_finn and #8: oliver_twist. \n",
        "However, the overall f1-score was around 0.38 for both models. In my opinion, this is not even a bad score, considering that the algorithm could only use the letter frequency for its prediction. \n",
        "\n",
        "Out of the box, the LSTM Recurrent Neural Net shows promising results with an accuracy of about 0.61. However, after 13 epochs it started to overfit. Therefore, in a next step I trained a model while implementing Early Stopping to prevent overfitting. The highest accuracy I received with this last model was around 0.85 (Early Stopping, restoring best weights). \n",
        "\n",
        "\n",
        "\n",
        "\n"
      ]
    },
    {
      "cell_type": "code",
      "metadata": {
        "id": "HXcc8dgd5biJ"
      },
      "source": [
        "import numpy as np \n",
        "import pandas as pd \n",
        "import re\n",
        "#import nltk \n",
        "import matplotlib.pyplot as plt\n",
        "import seaborn as sns\n",
        "%matplotlib inline\n"
      ],
      "execution_count": null,
      "outputs": []
    },
    {
      "cell_type": "code",
      "metadata": {
        "id": "YwOtljZG5hos"
      },
      "source": [
        "#Model Selection and Validation\n",
        "from sklearn.feature_extraction.text import CountVectorizer\n",
        "from sklearn.linear_model import LogisticRegression\n",
        "from sklearn import svm\n",
        "from sklearn.model_selection import cross_val_score\n",
        "from sklearn.model_selection import train_test_split\n",
        "from sklearn.pipeline import Pipeline\n",
        "from sklearn.metrics import confusion_matrix, classification_report,accuracy_score"
      ],
      "execution_count": null,
      "outputs": []
    },
    {
      "cell_type": "code",
      "metadata": {
        "id": "phiMbCg-5z4o",
        "outputId": "5553a608-9908-4493-a4ad-7c2b20bf0bac",
        "colab": {
          "base_uri": "https://localhost:8080/"
        }
      },
      "source": [
        "from google.colab import drive\n",
        "\n",
        "drive.mount('/content/drive')\n",
        "\n"
      ],
      "execution_count": null,
      "outputs": [
        {
          "output_type": "stream",
          "text": [
            "Mounted at /content/drive\n"
          ],
          "name": "stdout"
        }
      ]
    },
    {
      "cell_type": "code",
      "metadata": {
        "id": "w_EOQD6e1S3L"
      },
      "source": [
        "path = '/content/drive/My Drive/SAP/'"
      ],
      "execution_count": null,
      "outputs": []
    },
    {
      "cell_type": "code",
      "metadata": {
        "id": "XTHnwD_W58yl"
      },
      "source": [
        "#data path:\n",
        "data_xtest = path +\"xtest_obfuscated.txt\"\n",
        "data_xtrain = path + \"xtrain_obfuscated.txt\"\n",
        "data_ytrain = path + \"ytrain.txt\"\n",
        "\n",
        "\n",
        "#data load\n",
        "df_xtest = pd.read_table(data_xtest, header=None)\n",
        "df_xtrain = pd.read_table(data_xtrain, header=None)\n",
        "df_ytrain = pd.read_table(data_ytrain, header=None)"
      ],
      "execution_count": null,
      "outputs": []
    },
    {
      "cell_type": "markdown",
      "metadata": {
        "id": "aznN4_AWA_s1"
      },
      "source": [
        "*exploring* the shape and content:\n",
        "\n",
        "\n",
        "*   **xtrain** has 32513 obfuscated lines\n",
        "*   **ytrain** has 32513 labels\n",
        "*   **xtest** has 3000 unlabeled lines - to test model"
      ]
    },
    {
      "cell_type": "code",
      "metadata": {
        "id": "YopcbC8RA1A9",
        "outputId": "9a617eb5-1744-478a-c3c5-cbc2be7b587f",
        "colab": {
          "base_uri": "https://localhost:8080/"
        }
      },
      "source": [
        "df_xtrain.shape"
      ],
      "execution_count": null,
      "outputs": [
        {
          "output_type": "execute_result",
          "data": {
            "text/plain": [
              "(32513, 1)"
            ]
          },
          "metadata": {
            "tags": []
          },
          "execution_count": 7
        }
      ]
    },
    {
      "cell_type": "code",
      "metadata": {
        "id": "QXoSjFidzPpA",
        "outputId": "a0e12676-ee44-47ba-b932-a926fa8f3619",
        "colab": {
          "base_uri": "https://localhost:8080/",
          "height": 202
        }
      },
      "source": [
        "#pd.set_option('display.max_colwidth', -1)\n",
        "df_xtrain.head()"
      ],
      "execution_count": null,
      "outputs": [
        {
          "output_type": "execute_result",
          "data": {
            "text/html": [
              "<div>\n",
              "<style scoped>\n",
              "    .dataframe tbody tr th:only-of-type {\n",
              "        vertical-align: middle;\n",
              "    }\n",
              "\n",
              "    .dataframe tbody tr th {\n",
              "        vertical-align: top;\n",
              "    }\n",
              "\n",
              "    .dataframe thead th {\n",
              "        text-align: right;\n",
              "    }\n",
              "</style>\n",
              "<table border=\"1\" class=\"dataframe\">\n",
              "  <thead>\n",
              "    <tr style=\"text-align: right;\">\n",
              "      <th></th>\n",
              "      <th>0</th>\n",
              "    </tr>\n",
              "  </thead>\n",
              "  <tbody>\n",
              "    <tr>\n",
              "      <th>0</th>\n",
              "      <td>satwamuluhqgulamlrmvezuhqvkrpmletwulcitwskuhle...</td>\n",
              "    </tr>\n",
              "    <tr>\n",
              "      <th>1</th>\n",
              "      <td>twmkiwpmqvtwleuhsaiwsktwmvlelekramuhqvkruhtwsk...</td>\n",
              "    </tr>\n",
              "    <tr>\n",
              "      <th>2</th>\n",
              "      <td>vidfpmskuhvilepmuluhtwtvuhulsovienamqvuhskiwmv...</td>\n",
              "    </tr>\n",
              "    <tr>\n",
              "      <th>3</th>\n",
              "      <td>raskleenkrlruhtwulenleengztwqvuhenuhsatvuhsktw...</td>\n",
              "    </tr>\n",
              "    <tr>\n",
              "      <th>4</th>\n",
              "      <td>dfenqvuhtwamqvuhqgtwiwtvenuluhqvijletwamulenxe...</td>\n",
              "    </tr>\n",
              "  </tbody>\n",
              "</table>\n",
              "</div>"
            ],
            "text/plain": [
              "                                                   0\n",
              "0  satwamuluhqgulamlrmvezuhqvkrpmletwulcitwskuhle...\n",
              "1  twmkiwpmqvtwleuhsaiwsktwmvlelekramuhqvkruhtwsk...\n",
              "2  vidfpmskuhvilepmuluhtwtvuhulsovienamqvuhskiwmv...\n",
              "3  raskleenkrlruhtwulenleengztwqvuhenuhsatvuhsktw...\n",
              "4  dfenqvuhtwamqvuhqgtwiwtvenuluhqvijletwamulenxe..."
            ]
          },
          "metadata": {
            "tags": []
          },
          "execution_count": 8
        }
      ]
    },
    {
      "cell_type": "code",
      "metadata": {
        "id": "_sFkalDjnb0F",
        "outputId": "96770d1f-fb86-4b62-a061-d838965fb8a6",
        "colab": {
          "base_uri": "https://localhost:8080/"
        }
      },
      "source": [
        "df_ytrain.shape"
      ],
      "execution_count": null,
      "outputs": [
        {
          "output_type": "execute_result",
          "data": {
            "text/plain": [
              "(32513, 1)"
            ]
          },
          "metadata": {
            "tags": []
          },
          "execution_count": 9
        }
      ]
    },
    {
      "cell_type": "code",
      "metadata": {
        "id": "wdG9Rs1un_fE",
        "outputId": "de9ce0b1-9c47-4475-c8ea-8b2a63ae48be",
        "colab": {
          "base_uri": "https://localhost:8080/"
        }
      },
      "source": [
        "df_xtest.shape"
      ],
      "execution_count": null,
      "outputs": [
        {
          "output_type": "execute_result",
          "data": {
            "text/plain": [
              "(3000, 1)"
            ]
          },
          "metadata": {
            "tags": []
          },
          "execution_count": 10
        }
      ]
    },
    {
      "cell_type": "code",
      "metadata": {
        "id": "mIoWUhOw-8PT",
        "outputId": "9dc40e79-7ee2-43ae-d7ea-205e69ecba57",
        "colab": {
          "base_uri": "https://localhost:8080/"
        }
      },
      "source": [
        "df_xtrain.info()"
      ],
      "execution_count": null,
      "outputs": [
        {
          "output_type": "stream",
          "text": [
            "<class 'pandas.core.frame.DataFrame'>\n",
            "RangeIndex: 32513 entries, 0 to 32512\n",
            "Data columns (total 1 columns):\n",
            " #   Column  Non-Null Count  Dtype \n",
            "---  ------  --------------  ----- \n",
            " 0   0       32513 non-null  object\n",
            "dtypes: object(1)\n",
            "memory usage: 254.1+ KB\n"
          ],
          "name": "stdout"
        }
      ]
    },
    {
      "cell_type": "code",
      "metadata": {
        "id": "IpsAI-KgnfQa",
        "outputId": "2ec7dbaa-9d04-418a-96ba-913a312559b7",
        "colab": {
          "base_uri": "https://localhost:8080/"
        }
      },
      "source": [
        "df_ytrain.info()"
      ],
      "execution_count": null,
      "outputs": [
        {
          "output_type": "stream",
          "text": [
            "<class 'pandas.core.frame.DataFrame'>\n",
            "RangeIndex: 32513 entries, 0 to 32512\n",
            "Data columns (total 1 columns):\n",
            " #   Column  Non-Null Count  Dtype\n",
            "---  ------  --------------  -----\n",
            " 0   0       32513 non-null  int64\n",
            "dtypes: int64(1)\n",
            "memory usage: 254.1 KB\n"
          ],
          "name": "stdout"
        }
      ]
    },
    {
      "cell_type": "code",
      "metadata": {
        "id": "cfgwIdptSF9R",
        "outputId": "014fcbee-9910-4950-a747-57e9cd62d2e7",
        "colab": {
          "base_uri": "https://localhost:8080/"
        }
      },
      "source": [
        "df_xtest.info()"
      ],
      "execution_count": null,
      "outputs": [
        {
          "output_type": "stream",
          "text": [
            "<class 'pandas.core.frame.DataFrame'>\n",
            "RangeIndex: 3000 entries, 0 to 2999\n",
            "Data columns (total 1 columns):\n",
            " #   Column  Non-Null Count  Dtype \n",
            "---  ------  --------------  ----- \n",
            " 0   0       3000 non-null   object\n",
            "dtypes: object(1)\n",
            "memory usage: 23.6+ KB\n"
          ],
          "name": "stdout"
        }
      ]
    },
    {
      "cell_type": "code",
      "metadata": {
        "id": "IOVyc9Rm7E_Z",
        "outputId": "7d44a393-6236-4df2-b918-fbe43b52ebb8",
        "colab": {
          "base_uri": "https://localhost:8080/",
          "height": 202
        }
      },
      "source": [
        "df_xtrain.head()"
      ],
      "execution_count": null,
      "outputs": [
        {
          "output_type": "execute_result",
          "data": {
            "text/html": [
              "<div>\n",
              "<style scoped>\n",
              "    .dataframe tbody tr th:only-of-type {\n",
              "        vertical-align: middle;\n",
              "    }\n",
              "\n",
              "    .dataframe tbody tr th {\n",
              "        vertical-align: top;\n",
              "    }\n",
              "\n",
              "    .dataframe thead th {\n",
              "        text-align: right;\n",
              "    }\n",
              "</style>\n",
              "<table border=\"1\" class=\"dataframe\">\n",
              "  <thead>\n",
              "    <tr style=\"text-align: right;\">\n",
              "      <th></th>\n",
              "      <th>0</th>\n",
              "    </tr>\n",
              "  </thead>\n",
              "  <tbody>\n",
              "    <tr>\n",
              "      <th>0</th>\n",
              "      <td>satwamuluhqgulamlrmvezuhqvkrpmletwulcitwskuhle...</td>\n",
              "    </tr>\n",
              "    <tr>\n",
              "      <th>1</th>\n",
              "      <td>twmkiwpmqvtwleuhsaiwsktwmvlelekramuhqvkruhtwsk...</td>\n",
              "    </tr>\n",
              "    <tr>\n",
              "      <th>2</th>\n",
              "      <td>vidfpmskuhvilepmuluhtwtvuhulsovienamqvuhskiwmv...</td>\n",
              "    </tr>\n",
              "    <tr>\n",
              "      <th>3</th>\n",
              "      <td>raskleenkrlruhtwulenleengztwqvuhenuhsatvuhsktw...</td>\n",
              "    </tr>\n",
              "    <tr>\n",
              "      <th>4</th>\n",
              "      <td>dfenqvuhtwamqvuhqgtwiwtvenuluhqvijletwamulenxe...</td>\n",
              "    </tr>\n",
              "  </tbody>\n",
              "</table>\n",
              "</div>"
            ],
            "text/plain": [
              "                                                   0\n",
              "0  satwamuluhqgulamlrmvezuhqvkrpmletwulcitwskuhle...\n",
              "1  twmkiwpmqvtwleuhsaiwsktwmvlelekramuhqvkruhtwsk...\n",
              "2  vidfpmskuhvilepmuluhtwtvuhulsovienamqvuhskiwmv...\n",
              "3  raskleenkrlruhtwulenleengztwqvuhenuhsatvuhsktw...\n",
              "4  dfenqvuhtwamqvuhqgtwiwtvenuluhqvijletwamulenxe..."
            ]
          },
          "metadata": {
            "tags": []
          },
          "execution_count": 14
        }
      ]
    },
    {
      "cell_type": "code",
      "metadata": {
        "id": "42mMPgpXnj4g",
        "outputId": "2ba3c22b-6e23-4f13-b1eb-f4ae8a699708",
        "colab": {
          "base_uri": "https://localhost:8080/",
          "height": 202
        }
      },
      "source": [
        "df_ytrain.head()"
      ],
      "execution_count": null,
      "outputs": [
        {
          "output_type": "execute_result",
          "data": {
            "text/html": [
              "<div>\n",
              "<style scoped>\n",
              "    .dataframe tbody tr th:only-of-type {\n",
              "        vertical-align: middle;\n",
              "    }\n",
              "\n",
              "    .dataframe tbody tr th {\n",
              "        vertical-align: top;\n",
              "    }\n",
              "\n",
              "    .dataframe thead th {\n",
              "        text-align: right;\n",
              "    }\n",
              "</style>\n",
              "<table border=\"1\" class=\"dataframe\">\n",
              "  <thead>\n",
              "    <tr style=\"text-align: right;\">\n",
              "      <th></th>\n",
              "      <th>0</th>\n",
              "    </tr>\n",
              "  </thead>\n",
              "  <tbody>\n",
              "    <tr>\n",
              "      <th>0</th>\n",
              "      <td>7</td>\n",
              "    </tr>\n",
              "    <tr>\n",
              "      <th>1</th>\n",
              "      <td>3</td>\n",
              "    </tr>\n",
              "    <tr>\n",
              "      <th>2</th>\n",
              "      <td>8</td>\n",
              "    </tr>\n",
              "    <tr>\n",
              "      <th>3</th>\n",
              "      <td>3</td>\n",
              "    </tr>\n",
              "    <tr>\n",
              "      <th>4</th>\n",
              "      <td>4</td>\n",
              "    </tr>\n",
              "  </tbody>\n",
              "</table>\n",
              "</div>"
            ],
            "text/plain": [
              "   0\n",
              "0  7\n",
              "1  3\n",
              "2  8\n",
              "3  3\n",
              "4  4"
            ]
          },
          "metadata": {
            "tags": []
          },
          "execution_count": 15
        }
      ]
    },
    {
      "cell_type": "code",
      "metadata": {
        "id": "-ecEBJ6iSNAH",
        "outputId": "6b137c98-fd79-48f8-f006-cd8c28d2a4cd",
        "colab": {
          "base_uri": "https://localhost:8080/",
          "height": 415
        }
      },
      "source": [
        "df_xtest"
      ],
      "execution_count": null,
      "outputs": [
        {
          "output_type": "execute_result",
          "data": {
            "text/html": [
              "<div>\n",
              "<style scoped>\n",
              "    .dataframe tbody tr th:only-of-type {\n",
              "        vertical-align: middle;\n",
              "    }\n",
              "\n",
              "    .dataframe tbody tr th {\n",
              "        vertical-align: top;\n",
              "    }\n",
              "\n",
              "    .dataframe thead th {\n",
              "        text-align: right;\n",
              "    }\n",
              "</style>\n",
              "<table border=\"1\" class=\"dataframe\">\n",
              "  <thead>\n",
              "    <tr style=\"text-align: right;\">\n",
              "      <th></th>\n",
              "      <th>0</th>\n",
              "    </tr>\n",
              "  </thead>\n",
              "  <tbody>\n",
              "    <tr>\n",
              "      <th>0</th>\n",
              "      <td>tvletwgzkrqvuhtwamuluhpkskpmpmiwtvuhamqvmviwlr...</td>\n",
              "    </tr>\n",
              "    <tr>\n",
              "      <th>1</th>\n",
              "      <td>qvmvuhskleenmvviengzxyuhqvmvamguuhrakrpmsauhul...</td>\n",
              "    </tr>\n",
              "    <tr>\n",
              "      <th>2</th>\n",
              "      <td>twamuhulenamuluhskvienuhqgdftwmvmkletwulvimvuh...</td>\n",
              "    </tr>\n",
              "    <tr>\n",
              "      <th>3</th>\n",
              "      <td>sooatwqvvitwqvvipmviuhoaampmpmmwuhuhraulvikrpm...</td>\n",
              "    </tr>\n",
              "    <tr>\n",
              "      <th>4</th>\n",
              "      <td>lepmuhpmdfuluhtwletwdfuhtwletwamguuhuhraezpmpm...</td>\n",
              "    </tr>\n",
              "    <tr>\n",
              "      <th>...</th>\n",
              "      <td>...</td>\n",
              "    </tr>\n",
              "    <tr>\n",
              "      <th>2995</th>\n",
              "      <td>enuhqvenuhqgeztwtwulqvtwuhtwiwtvenletwskmvqvvi...</td>\n",
              "    </tr>\n",
              "    <tr>\n",
              "      <th>2996</th>\n",
              "      <td>qvtwmkpmezuhulqvkrskuhtwamuluhulenamuluhskvien...</td>\n",
              "    </tr>\n",
              "    <tr>\n",
              "      <th>2997</th>\n",
              "      <td>ezmvamuhtwskenezuhulenamuluhulmvuhqvendfuhulen...</td>\n",
              "    </tr>\n",
              "    <tr>\n",
              "      <th>2998</th>\n",
              "      <td>skvikrpmtvuhskleendfulkrpmuhtwamuluhtwletwamdf...</td>\n",
              "    </tr>\n",
              "    <tr>\n",
              "      <th>2999</th>\n",
              "      <td>twamuluhiwiwmvuluhletwamultwlrpmuluhsktwgzezen...</td>\n",
              "    </tr>\n",
              "  </tbody>\n",
              "</table>\n",
              "<p>3000 rows × 1 columns</p>\n",
              "</div>"
            ],
            "text/plain": [
              "                                                      0\n",
              "0     tvletwgzkrqvuhtwamuluhpkskpmpmiwtvuhamqvmviwlr...\n",
              "1     qvmvuhskleenmvviengzxyuhqvmvamguuhrakrpmsauhul...\n",
              "2     twamuhulenamuluhskvienuhqgdftwmvmkletwulvimvuh...\n",
              "3     sooatwqvvitwqvvipmviuhoaampmpmmwuhuhraulvikrpm...\n",
              "4     lepmuhpmdfuluhtwletwdfuhtwletwamguuhuhraezpmpm...\n",
              "...                                                 ...\n",
              "2995  enuhqvenuhqgeztwtwulqvtwuhtwiwtvenletwskmvqvvi...\n",
              "2996  qvtwmkpmezuhulqvkrskuhtwamuluhulenamuluhskvien...\n",
              "2997  ezmvamuhtwskenezuhulenamuluhulmvuhqvendfuhulen...\n",
              "2998  skvikrpmtvuhskleendfulkrpmuhtwamuluhtwletwamdf...\n",
              "2999  twamuluhiwiwmvuluhletwamultwlrpmuluhsktwgzezen...\n",
              "\n",
              "[3000 rows x 1 columns]"
            ]
          },
          "metadata": {
            "tags": []
          },
          "execution_count": 16
        }
      ]
    },
    {
      "cell_type": "markdown",
      "metadata": {
        "id": "9iwRnDWTBESd"
      },
      "source": [
        "## Exploratory data analysis:\n",
        "How many samples do we have for each class? Is the data set imbalanced?  "
      ]
    },
    {
      "cell_type": "markdown",
      "metadata": {
        "id": "m_0XjOoWuorY"
      },
      "source": [
        "##### Trying to find out whether the number of sequences per classes is imbalanced. Yes, there is an imbalance with 10 times less sequences for #0 \"Alice in Wonderland\" than #7 \"Moby Dick\".\n"
      ]
    },
    {
      "cell_type": "code",
      "metadata": {
        "id": "NwaHnhMM7cqs",
        "outputId": "570499c3-bef9-444c-d395-dcb3ac8d624a",
        "colab": {
          "base_uri": "https://localhost:8080/"
        }
      },
      "source": [
        "df_ytrain[0].value_counts()"
      ],
      "execution_count": null,
      "outputs": [
        {
          "output_type": "execute_result",
          "data": {
            "text/plain": [
              "7     5097\n",
              "6     4226\n",
              "3     4023\n",
              "8     3634\n",
              "1     3459\n",
              "10    3052\n",
              "4     2337\n",
              "5     2283\n",
              "2     1471\n",
              "11    1408\n",
              "9      980\n",
              "0      543\n",
              "Name: 0, dtype: int64"
            ]
          },
          "metadata": {
            "tags": []
          },
          "execution_count": 17
        }
      ]
    },
    {
      "cell_type": "code",
      "metadata": {
        "id": "WOJ4W44Kl_jw",
        "outputId": "c1bf740d-ec75-4380-8cd3-a68e839354d6",
        "colab": {
          "base_uri": "https://localhost:8080/",
          "height": 286
        }
      },
      "source": [
        "df_ytrain[0].value_counts().sort_values(ascending=False).plot(kind='bar')"
      ],
      "execution_count": null,
      "outputs": [
        {
          "output_type": "execute_result",
          "data": {
            "text/plain": [
              "<matplotlib.axes._subplots.AxesSubplot at 0x7fe350a73978>"
            ]
          },
          "metadata": {
            "tags": []
          },
          "execution_count": 18
        },
        {
          "output_type": "display_data",
          "data": {
            "image/png": "[encoded data removed]",
            "text/plain": [
              "<Figure size 432x288 with 1 Axes>"
            ]
          },
          "metadata": {
            "tags": [],
            "needs_background": "light"
          }
        }
      ]
    },
    {
      "cell_type": "markdown",
      "metadata": {
        "id": "lhs474wCm2F2"
      },
      "source": [
        "How long are the char sequences of the training data set?"
      ]
    },
    {
      "cell_type": "code",
      "metadata": {
        "id": "QWtvkz-AoxQ9",
        "outputId": "3f42cfd3-515f-4675-cc72-8a35a43c1943",
        "colab": {
          "base_uri": "https://localhost:8080/"
        }
      },
      "source": [
        "df_xtrain['charcount'] = df_xtrain[0].str.len()\n",
        "df_xtrain\n",
        "print (\"The letter sequences in x_train contain between\", max(df_xtrain['charcount']), \"and\", min(df_xtrain['charcount']), \"letters\")"
      ],
      "execution_count": null,
      "outputs": [
        {
          "output_type": "stream",
          "text": [
            "The letter sequences in x_train contain between 452 and 168 letters\n"
          ],
          "name": "stdout"
        }
      ]
    },
    {
      "cell_type": "code",
      "metadata": {
        "id": "wqe-NlHAdoeB",
        "outputId": "65f906e7-0846-4fef-cc69-b46fc62e1bd2",
        "colab": {
          "base_uri": "https://localhost:8080/"
        }
      },
      "source": [
        "df_xtest['charcount'] = df_xtest[0].str.len()\n",
        "df_xtest\n",
        "print (\"The letter sequences in x_test contain between\", max(df_xtest['charcount']), \"and\", min(df_xtest['charcount']), \"letters\")"
      ],
      "execution_count": null,
      "outputs": [
        {
          "output_type": "stream",
          "text": [
            "The letter sequences in x_test contain between 448 and 72 letters\n"
          ],
          "name": "stdout"
        }
      ]
    },
    {
      "cell_type": "code",
      "metadata": {
        "id": "Rz-8hD4HzdMp"
      },
      "source": [
        "df_xtrain = df_xtrain.drop(['charcount'], axis=1)\n",
        "df_xtest = df_xtest.drop(['charcount'], axis=1)"
      ],
      "execution_count": null,
      "outputs": []
    },
    {
      "cell_type": "code",
      "metadata": {
        "id": "6dxv5DeszlQI",
        "outputId": "a3397337-14c3-4eb4-e168-d00a5220290d",
        "colab": {
          "base_uri": "https://localhost:8080/"
        }
      },
      "source": [
        "df_xtrain.shape"
      ],
      "execution_count": null,
      "outputs": [
        {
          "output_type": "execute_result",
          "data": {
            "text/plain": [
              "(32513, 1)"
            ]
          },
          "metadata": {
            "tags": []
          },
          "execution_count": 22
        }
      ]
    },
    {
      "cell_type": "markdown",
      "metadata": {
        "id": "W6P-uoWYvljC"
      },
      "source": [
        "#Train test split - splitting data for training model"
      ]
    },
    {
      "cell_type": "code",
      "metadata": {
        "id": "XzhIgi8ss4Fr"
      },
      "source": [
        "x_train, x_val, y_train, y_val = train_test_split(df_xtrain[0], df_ytrain[0], test_size=0.2, random_state=42)"
      ],
      "execution_count": null,
      "outputs": []
    },
    {
      "cell_type": "markdown",
      "metadata": {
        "id": "WvfdXGb4V02U"
      },
      "source": [
        "# baseline model\n"
      ]
    },
    {
      "cell_type": "markdown",
      "metadata": {
        "id": "QbwY8Ab3ZF1N"
      },
      "source": [
        "## 1. LOGISTIC REGRESSION\n"
      ]
    },
    {
      "cell_type": "markdown",
      "metadata": {
        "id": "wLMWLqhSWmOL"
      },
      "source": [
        "For the baseline model, I use a simple \"Bag of Words\" tokenizer, which will not be used to tokenize words (due to obfuscation, words are not available), but will rather simply count the number of occurences of each letter. "
      ]
    },
    {
      "cell_type": "code",
      "metadata": {
        "id": "SW1Fo7dj7-Ut"
      },
      "source": [
        "pipeline = Pipeline([\n",
        "    ('bow',CountVectorizer(analyzer='char')),  # char to token integer counts\n",
        "    ('classifier', LogisticRegression()),  # train on TF-IDF vectors with Logistic Regression\n",
        "])"
      ],
      "execution_count": null,
      "outputs": []
    },
    {
      "cell_type": "code",
      "metadata": {
        "id": "VzmF8GcC_uy9",
        "outputId": "a9d000b0-8c27-4f0f-cdf4-bd90ff18d09c",
        "colab": {
          "base_uri": "https://localhost:8080/",
          "height": 778
        }
      },
      "source": [
        "pipeline.fit(x_train,y_train)\n",
        "predictions = pipeline.predict(x_val)\n",
        "print(classification_report(predictions,y_val))\n",
        "print(confusion_matrix(predictions,y_val))\n",
        "print(accuracy_score(predictions,y_val))"
      ],
      "execution_count": null,
      "outputs": [
        {
          "output_type": "stream",
          "text": [
            "/usr/local/lib/python3.6/dist-packages/sklearn/linear_model/_logistic.py:940: ConvergenceWarning: lbfgs failed to converge (status=1):\n",
            "STOP: TOTAL NO. of ITERATIONS REACHED LIMIT.\n",
            "\n",
            "Increase the number of iterations (max_iter) or scale the data as shown in:\n",
            "    https://scikit-learn.org/stable/modules/preprocessing.html\n",
            "Please also refer to the documentation for alternative solver options:\n",
            "    https://scikit-learn.org/stable/modules/linear_model.html#logistic-regression\n",
            "  extra_warning_msg=_LOGISTIC_SOLVER_CONVERGENCE_MSG)\n"
          ],
          "name": "stderr"
        },
        {
          "output_type": "stream",
          "text": [
            "              precision    recall  f1-score   support\n",
            "\n",
            "           0       0.08      0.50      0.14        16\n",
            "           1       0.43      0.34      0.38       868\n",
            "           2       0.11      0.35      0.17        91\n",
            "           3       0.38      0.30      0.34      1046\n",
            "           4       0.26      0.40      0.32       305\n",
            "           5       0.63      0.55      0.59       535\n",
            "           6       0.35      0.31      0.33       946\n",
            "           7       0.56      0.31      0.40      1717\n",
            "           8       0.46      0.55      0.50       618\n",
            "           9       0.02      0.27      0.04        15\n",
            "          10       0.12      0.26      0.16       301\n",
            "          11       0.04      0.27      0.07        45\n",
            "\n",
            "    accuracy                           0.36      6503\n",
            "   macro avg       0.29      0.37      0.29      6503\n",
            "weighted avg       0.43      0.36      0.38      6503\n",
            "\n",
            "[[  8   0   0   1   0   0   1   2   3   1   0   0]\n",
            " [  4 291  35  87  34  51 100  48  53  31  56  78]\n",
            " [  3   5  32   0   7   7  12  10   5   4   3   3]\n",
            " [ 17 100  28 313  77  62  61 100  68  39 145  36]\n",
            " [ 22   7  25  28 121  14  15  25  11   5  30   2]\n",
            " [ 18  33  24  56  27 296   9  17   6  14  16  19]\n",
            " [  6  78  42  75  39   6 295 135  86  36  97  51]\n",
            " [ 13  91  68 174  99  19 258 538 144  31 200  82]\n",
            " [  2  52  12  35  18   3  60  46 340  10  29  11]\n",
            " [  1   0   0   1   1   1   3   1   0   4   2   1]\n",
            " [  4  18  11  46  35   5  26  38  22  10  77   9]\n",
            " [  0   3   5   3   2   5   1   5   4   2   3  12]]\n",
            "0.3578348454559434\n"
          ],
          "name": "stdout"
        }
      ]
    },
    {
      "cell_type": "markdown",
      "metadata": {
        "id": "lX9LfYC3Y5H7"
      },
      "source": [
        "## 2. SUPPORT VECTOR MACHINE"
      ]
    },
    {
      "cell_type": "code",
      "metadata": {
        "id": "azKQPPIJ8n3j"
      },
      "source": [
        "pipeline = Pipeline([\n",
        "    ('bow',CountVectorizer(analyzer='char')),  # strings to token integer counts\n",
        "    ('classifier', svm.SVC()),  # train w/ Support Vector Machine\n",
        "])"
      ],
      "execution_count": null,
      "outputs": []
    },
    {
      "cell_type": "code",
      "metadata": {
        "id": "gadxYT_l6Mds",
        "outputId": "854bf7e2-951f-4235-d9df-f64f2eeeb3e2",
        "colab": {
          "base_uri": "https://localhost:8080/",
          "height": 684
        }
      },
      "source": [
        "pipeline.fit(x_train,y_train)\n",
        "predictions = pipeline.predict(x_val)\n",
        "print(classification_report(predictions,y_val))\n",
        "print(confusion_matrix(predictions,y_val))\n",
        "print(accuracy_score(predictions,y_val))"
      ],
      "execution_count": null,
      "outputs": [
        {
          "output_type": "stream",
          "text": [
            "              precision    recall  f1-score   support\n",
            "\n",
            "           0       0.02      0.29      0.04         7\n",
            "           1       0.46      0.33      0.38       962\n",
            "           2       0.05      0.52      0.08        25\n",
            "           3       0.41      0.30      0.34      1142\n",
            "           4       0.23      0.51      0.31       204\n",
            "           5       0.61      0.57      0.59       506\n",
            "           6       0.37      0.32      0.35       968\n",
            "           7       0.64      0.29      0.40      2098\n",
            "           8       0.40      0.69      0.50       427\n",
            "           9       0.00      0.00      0.00         0\n",
            "          10       0.07      0.28      0.11       162\n",
            "          11       0.01      1.00      0.01         2\n",
            "\n",
            "    accuracy                           0.36      6503\n",
            "   macro avg       0.27      0.42      0.26      6503\n",
            "weighted avg       0.48      0.36      0.39      6503\n",
            "\n",
            "[[  2   0   0   0   1   0   1   1   2   0   0   0]\n",
            " [  5 313  44  94  53  70 100  57  59  34  61  72]\n",
            " [  0   0  13   0   3   5   2   1   0   1   0   0]\n",
            " [ 23 107  41 337  87  62  60 120  70  48 149  38]\n",
            " [ 20   2   8  17 104  11   8   7   5   3  19   0]\n",
            " [ 18  33  11  59  32 286   7  13   5   8  10  24]\n",
            " [ 10  75  45  72  45   5 314 116  98  35 105  48]\n",
            " [ 19 111 111 200 109  25 309 617 198  45 256  98]\n",
            " [  1  30   0  15   6   1  27  18 294   7  12  16]\n",
            " [  0   0   0   0   0   0   0   0   0   0   0   0]\n",
            " [  0   7   9  25  20   4  13  15  11   6  46   6]\n",
            " [  0   0   0   0   0   0   0   0   0   0   0   2]]\n",
            "0.35798862063662923\n"
          ],
          "name": "stdout"
        },
        {
          "output_type": "stream",
          "text": [
            "/usr/local/lib/python3.6/dist-packages/sklearn/metrics/_classification.py:1272: UndefinedMetricWarning: Recall and F-score are ill-defined and being set to 0.0 in labels with no true samples. Use `zero_division` parameter to control this behavior.\n",
            "  _warn_prf(average, modifier, msg_start, len(result))\n"
          ],
          "name": "stderr"
        }
      ]
    },
    {
      "cell_type": "markdown",
      "metadata": {
        "id": "4eNAfyJ4j_Qz"
      },
      "source": [
        "On some books, such as #5: huckleberry_finn and #8: oliver_twist the f1_score is not even bad (~.5). Overall, both, accuracy and f1-score are around .36. One must consider that the chance level for a classifier with 12 classes is around 0.083. \n",
        "\n",
        "(Some of the classes/books were not analysed, e.g. book #0, #2, #9, #11, and obviously the classifier will perform worse on books with a small number of data points (support). Therefore cross-validation seems to be a good idea. I started with a 3-fold cross-validation. In a next step, I would probably chose a higher k-fold and use the complete validation set.)\n"
      ]
    },
    {
      "cell_type": "code",
      "metadata": {
        "id": "-pQoLB8UdOUJ"
      },
      "source": [
        "scores = cross_val_score(pipeline,x_train,y_train,cv=3,\n",
        "    scoring='f1_micro')"
      ],
      "execution_count": null,
      "outputs": []
    },
    {
      "cell_type": "code",
      "metadata": {
        "id": "y76Ow74se7rT",
        "outputId": "5c91557b-9029-48f1-b0ce-7d8809bfd722",
        "colab": {
          "base_uri": "https://localhost:8080/",
          "height": 36
        }
      },
      "source": [
        "scores"
      ],
      "execution_count": null,
      "outputs": [
        {
          "output_type": "execute_result",
          "data": {
            "text/plain": [
              "array([0.35732411, 0.34855825, 0.35374856])"
            ]
          },
          "metadata": {
            "tags": []
          },
          "execution_count": 34
        }
      ]
    },
    {
      "cell_type": "markdown",
      "metadata": {
        "id": "nN8W34MSkp1b"
      },
      "source": [
        "Also with 3-fold cross-validation, the f1-scores for the SVM are around .36. Hence, for a multi-class classification problem with 12 possible classes the accuracy is still above chance. Even though the score is rather low, one must consider that the model infers its predictions solely from the frequency of the letters in the char sequences, therefore,in my opinion, the accuracy is not even bad. "
      ]
    },
    {
      "cell_type": "markdown",
      "metadata": {
        "id": "z9zK9-DJVyj5"
      },
      "source": [
        "# RNN\n",
        "In this part, I will have a look whether a Recurrent Neural Net might be able to beat the baseline of the simple Logistic Regression and Support Vector Machine. "
      ]
    },
    {
      "cell_type": "code",
      "metadata": {
        "id": "0q7qFo6o1mjY"
      },
      "source": [
        "#train test split (only needed if not used before)\n",
        "x_train, x_val, y_train, y_val = train_test_split(df_xtrain[0], df_ytrain[0], test_size=0.2, random_state=42)\n"
      ],
      "execution_count": null,
      "outputs": []
    },
    {
      "cell_type": "code",
      "metadata": {
        "id": "PvGH4i-mw_WU"
      },
      "source": [
        "# preprocessing\n",
        "from keras.preprocessing.text import Tokenizer # converting letters to integers\n",
        "from keras.preprocessing.sequence import pad_sequences # padding sequences to have sequences in equal length\n",
        "import numpy as np "
      ],
      "execution_count": null,
      "outputs": []
    },
    {
      "cell_type": "code",
      "metadata": {
        "id": "eCmF6Li3v77P"
      },
      "source": [
        "# Model \n",
        "from keras.models import Sequential, Model, Input\n",
        "from keras.layers import Dense\n",
        "from keras.layers import LSTM, Embedding, Dense, Dropout\n",
        "from keras.layers.embeddings import Embedding\n",
        "from keras.preprocessing import sequence\n",
        "from tensorflow import keras"
      ],
      "execution_count": null,
      "outputs": []
    },
    {
      "cell_type": "code",
      "metadata": {
        "id": "pADG3hfdmhIh"
      },
      "source": [
        "#preprocessing text data to be able to make predictions on the data later on\n",
        "x_test = df_xtest[0]"
      ],
      "execution_count": null,
      "outputs": []
    },
    {
      "cell_type": "code",
      "metadata": {
        "id": "Eis7gaMmj1wi",
        "outputId": "8c06d490-b522-425d-c919-1cde54b1cb7a",
        "colab": {
          "base_uri": "https://localhost:8080/"
        }
      },
      "source": [
        "#x_train.head()\n",
        "x_test.head()"
      ],
      "execution_count": null,
      "outputs": [
        {
          "output_type": "execute_result",
          "data": {
            "text/plain": [
              "0    tvletwgzkrqvuhtwamuluhpkskpmpmiwtvuhamqvmviwlr...\n",
              "1    qvmvuhskleenmvviengzxyuhqvmvamguuhrakrpmsauhul...\n",
              "2    twamuhulenamuluhskvienuhqgdftwmvmkletwulvimvuh...\n",
              "3    sooatwqvvitwqvvipmviuhoaampmpmmwuhuhraulvikrpm...\n",
              "4    lepmuhpmdfuluhtwletwdfuhtwletwamguuhuhraezpmpm...\n",
              "Name: 0, dtype: object"
            ]
          },
          "metadata": {
            "tags": []
          },
          "execution_count": 27
        }
      ]
    },
    {
      "cell_type": "code",
      "metadata": {
        "id": "RXSjA2lD1-yg"
      },
      "source": [
        "# Initialization: preprocessing text on character level \n",
        "tk = Tokenizer(num_words=None, char_level=True, oov_token='UNK') # oov_token: if given, it will be added to word_index and used to replace out-of-vocabulary char during text_to_sequence calls\n",
        "# Fitting on data\n",
        "tk.fit_on_texts(x_train)\n",
        "tk.fit_on_texts(x_val)\n",
        "tk.fit_on_texts(x_test)"
      ],
      "execution_count": null,
      "outputs": []
    },
    {
      "cell_type": "code",
      "metadata": {
        "id": "jhVcP0Mn2M1T",
        "outputId": "b66e1766-c140-471c-ea0a-4c097292942c",
        "colab": {
          "base_uri": "https://localhost:8080/"
        }
      },
      "source": [
        "# which characters do we have and what is their corresponding number?\n",
        "tk.word_index"
      ],
      "execution_count": null,
      "outputs": [
        {
          "output_type": "execute_result",
          "data": {
            "text/plain": [
              "{'UNK': 1,\n",
              " 'a': 12,\n",
              " 'b': 27,\n",
              " 'c': 24,\n",
              " 'd': 20,\n",
              " 'e': 6,\n",
              " 'f': 21,\n",
              " 'g': 18,\n",
              " 'h': 3,\n",
              " 'i': 10,\n",
              " 'j': 26,\n",
              " 'k': 13,\n",
              " 'l': 7,\n",
              " 'm': 4,\n",
              " 'n': 15,\n",
              " 'o': 25,\n",
              " 'p': 11,\n",
              " 'q': 14,\n",
              " 'r': 17,\n",
              " 's': 16,\n",
              " 't': 9,\n",
              " 'u': 2,\n",
              " 'v': 5,\n",
              " 'w': 8,\n",
              " 'x': 23,\n",
              " 'y': 22,\n",
              " 'z': 19}"
            ]
          },
          "metadata": {
            "tags": []
          },
          "execution_count": 29
        }
      ]
    },
    {
      "cell_type": "code",
      "metadata": {
        "id": "b5u_7MRu-Vr6"
      },
      "source": [
        "# Convert string to index \n",
        "train_sequences = tk.texts_to_sequences(x_train)\n",
        "val_sequences = tk.texts_to_sequences(x_val)\n",
        "test_sequences = tk.texts_to_sequences(x_test)"
      ],
      "execution_count": null,
      "outputs": []
    },
    {
      "cell_type": "code",
      "metadata": {
        "id": "zC-mYsZl-aFl"
      },
      "source": [
        "# Padding - all instances should have the same length. I am using 430, as the length of the longest sequence in x_train was 426 letters (see above)\n",
        "train_data = pad_sequences(train_sequences, maxlen=430, padding='post')\n",
        "val_data = pad_sequences(val_sequences, maxlen=430, padding='post')\n",
        "test_data = pad_sequences(test_sequences, maxlen=430, padding='post')\n"
      ],
      "execution_count": null,
      "outputs": []
    },
    {
      "cell_type": "markdown",
      "metadata": {
        "id": "Hl5aldFGjh2O"
      },
      "source": [
        "verifying the preprocessing procedure"
      ]
    },
    {
      "cell_type": "code",
      "metadata": {
        "id": "YChlMBz6C0jM",
        "outputId": "d4f50ccb-3e1c-4af4-8198-6be8b6f82389",
        "colab": {
          "base_uri": "https://localhost:8080/"
        }
      },
      "source": [
        "train_data.shape"
      ],
      "execution_count": null,
      "outputs": [
        {
          "output_type": "execute_result",
          "data": {
            "text/plain": [
              "(26010, 430)"
            ]
          },
          "metadata": {
            "tags": []
          },
          "execution_count": 32
        }
      ]
    },
    {
      "cell_type": "code",
      "metadata": {
        "id": "w8azU5K2C5v-",
        "outputId": "55566ce0-d1f1-46ae-9e61-e59fb120063b",
        "colab": {
          "base_uri": "https://localhost:8080/"
        }
      },
      "source": [
        "val_data.shape"
      ],
      "execution_count": null,
      "outputs": [
        {
          "output_type": "execute_result",
          "data": {
            "text/plain": [
              "(6503, 430)"
            ]
          },
          "metadata": {
            "tags": []
          },
          "execution_count": 33
        }
      ]
    },
    {
      "cell_type": "code",
      "metadata": {
        "id": "xJEiixPbjeIH",
        "outputId": "2dc6cbfe-3e2d-438c-bfdb-5f5d69fefe90",
        "colab": {
          "base_uri": "https://localhost:8080/"
        }
      },
      "source": [
        "test_data.shape"
      ],
      "execution_count": null,
      "outputs": [
        {
          "output_type": "execute_result",
          "data": {
            "text/plain": [
              "(3000, 430)"
            ]
          },
          "metadata": {
            "tags": []
          },
          "execution_count": 34
        }
      ]
    },
    {
      "cell_type": "markdown",
      "metadata": {
        "id": "H_yKbnynjljv"
      },
      "source": [
        "converting data into numpy array"
      ]
    },
    {
      "cell_type": "code",
      "metadata": {
        "id": "Dpp3iq9P-k1X"
      },
      "source": [
        "# Convert sequences to numpy array\n",
        "train_data = np.array(train_data)\n",
        "val_data = np.array(val_data)\n",
        "#test_data = np.array(test_data)"
      ],
      "execution_count": null,
      "outputs": []
    },
    {
      "cell_type": "code",
      "metadata": {
        "id": "D8gUxV1SDG4O"
      },
      "source": [
        "# Convert classes to numpy array\n",
        "train_classes = np.array(y_train)\n",
        "val_classes = np.array(y_val)"
      ],
      "execution_count": null,
      "outputs": []
    },
    {
      "cell_type": "code",
      "metadata": {
        "id": "it-6SoS2DTsP",
        "outputId": "a0ea6e91-c6c3-44f2-eb41-d4e9be7a1432",
        "colab": {
          "base_uri": "https://localhost:8080/"
        }
      },
      "source": [
        "#how does it look like now? Okay. \n",
        "train_classes"
      ],
      "execution_count": null,
      "outputs": [
        {
          "output_type": "execute_result",
          "data": {
            "text/plain": [
              "array([4, 6, 7, ..., 7, 7, 3])"
            ]
          },
          "metadata": {
            "tags": []
          },
          "execution_count": 37
        }
      ]
    },
    {
      "cell_type": "code",
      "metadata": {
        "id": "1BDBxXwgDbqs",
        "outputId": "6b30b63f-f8b4-4e4a-8a29-d60d1bdc61b2",
        "colab": {
          "base_uri": "https://localhost:8080/"
        }
      },
      "source": [
        "#how does it look like now? Okay. \n",
        "val_classes"
      ],
      "execution_count": null,
      "outputs": [
        {
          "output_type": "execute_result",
          "data": {
            "text/plain": [
              "array([ 7, 10, 10, ...,  7,  3,  6])"
            ]
          },
          "metadata": {
            "tags": []
          },
          "execution_count": 38
        }
      ]
    },
    {
      "cell_type": "markdown",
      "metadata": {
        "id": "TFL9SFCWdj5r"
      },
      "source": [
        "## Model"
      ]
    },
    {
      "cell_type": "markdown",
      "metadata": {
        "id": "YJnWrdGIdorc"
      },
      "source": [
        "creating model"
      ]
    },
    {
      "cell_type": "code",
      "metadata": {
        "id": "QdmroO8CjQmi"
      },
      "source": [
        "# defining LSTM with activation function Softmax due to multi-class labeling; dense 12 because of 12 classes\n",
        "embed_dim = 128\n",
        "lstm_out = 200\n",
        "batch_size = 32\n",
        "\n",
        "model = Sequential()\n",
        "model.add(Embedding(30, embed_dim,input_length = train_data.shape[1]))\n",
        "model.add(LSTM(lstm_out))\n",
        "model.add(Dense(12,activation='softmax'))\n"
      ],
      "execution_count": null,
      "outputs": []
    },
    {
      "cell_type": "markdown",
      "metadata": {
        "id": "Cx-QsWvTdsJ-"
      },
      "source": [
        "compiling model"
      ]
    },
    {
      "cell_type": "code",
      "metadata": {
        "id": "N5gx1d3dB87k",
        "outputId": "d0ef1d7b-34fa-4c20-c19a-fc8ab481e394",
        "colab": {
          "base_uri": "https://localhost:8080/"
        }
      },
      "source": [
        "#sparse categorical cross entropy: the labels are mutually exclusive for each data, meaning each data entry can only belong to one class.\n",
        "model.compile(loss='sparse_categorical_crossentropy', optimizer='adam', metrics=['accuracy'])\n",
        "print(model.summary())"
      ],
      "execution_count": null,
      "outputs": [
        {
          "output_type": "stream",
          "text": [
            "Model: \"sequential\"\n",
            "_________________________________________________________________\n",
            "Layer (type)                 Output Shape              Param #   \n",
            "=================================================================\n",
            "embedding (Embedding)        (None, 430, 128)          3840      \n",
            "_________________________________________________________________\n",
            "lstm (LSTM)                  (None, 200)               263200    \n",
            "_________________________________________________________________\n",
            "dense (Dense)                (None, 12)                2412      \n",
            "=================================================================\n",
            "Total params: 269,452\n",
            "Trainable params: 269,452\n",
            "Non-trainable params: 0\n",
            "_________________________________________________________________\n",
            "None\n"
          ],
          "name": "stdout"
        }
      ]
    },
    {
      "cell_type": "markdown",
      "metadata": {
        "id": "z48jnTBFduz1"
      },
      "source": [
        "training model\n"
      ]
    },
    {
      "cell_type": "code",
      "metadata": {
        "id": "a4Sdt_RDjPxG",
        "outputId": "2c36185f-dfc8-4cb1-ae83-49151ec23ac0",
        "colab": {
          "base_uri": "https://localhost:8080/",
          "height": 1000
        }
      },
      "source": [
        "num_epochs = 25\n",
        "history = model.fit(train_data, train_classes, epochs=num_epochs, validation_data=(val_data, val_classes), verbose=2)\n",
        "model.save(\"/content/drive/My Drive/SAP/model_embed_25_epochs\")"
      ],
      "execution_count": null,
      "outputs": [
        {
          "output_type": "stream",
          "text": [
            "Epoch 1/25\n",
            "813/813 - 922s - loss: 2.3110 - accuracy: 0.1721 - val_loss: 2.3047 - val_accuracy: 0.1647\n",
            "Epoch 2/25\n",
            "813/813 - 918s - loss: 2.2524 - accuracy: 0.2010 - val_loss: 2.2179 - val_accuracy: 0.2116\n",
            "Epoch 3/25\n",
            "813/813 - 916s - loss: 2.2295 - accuracy: 0.2027 - val_loss: 2.2033 - val_accuracy: 0.2038\n",
            "Epoch 4/25\n",
            "813/813 - 943s - loss: 2.1857 - accuracy: 0.2231 - val_loss: 2.0967 - val_accuracy: 0.2542\n",
            "Epoch 5/25\n",
            "813/813 - 926s - loss: 2.0498 - accuracy: 0.2661 - val_loss: 1.9864 - val_accuracy: 0.2843\n",
            "Epoch 6/25\n",
            "813/813 - 930s - loss: 1.9953 - accuracy: 0.2851 - val_loss: 1.9346 - val_accuracy: 0.2945\n",
            "Epoch 7/25\n",
            "813/813 - 940s - loss: 2.0039 - accuracy: 0.2812 - val_loss: 3.6209 - val_accuracy: 0.2462\n",
            "Epoch 8/25\n",
            "813/813 - 927s - loss: 1.8290 - accuracy: 0.3376 - val_loss: 1.7392 - val_accuracy: 0.3663\n",
            "Epoch 9/25\n",
            "813/813 - 924s - loss: 1.6733 - accuracy: 0.3895 - val_loss: 1.6550 - val_accuracy: 0.4010\n",
            "Epoch 10/25\n",
            "813/813 - 938s - loss: 1.5918 - accuracy: 0.4209 - val_loss: 1.5750 - val_accuracy: 0.4283\n",
            "Epoch 11/25\n",
            "813/813 - 950s - loss: 1.5087 - accuracy: 0.4574 - val_loss: 1.4453 - val_accuracy: 0.4815\n",
            "Epoch 12/25\n",
            "813/813 - 931s - loss: 1.3240 - accuracy: 0.5296 - val_loss: 1.2907 - val_accuracy: 0.5364\n",
            "Epoch 13/25\n",
            "813/813 - 937s - loss: 1.2345 - accuracy: 0.5597 - val_loss: 1.2211 - val_accuracy: 0.5610\n",
            "Epoch 14/25\n",
            "813/813 - 949s - loss: 1.1412 - accuracy: 0.5910 - val_loss: 1.1594 - val_accuracy: 0.5900\n",
            "Epoch 15/25\n",
            "813/813 - 939s - loss: 1.0641 - accuracy: 0.6242 - val_loss: 1.1120 - val_accuracy: 0.6106\n",
            "Epoch 16/25\n",
            "813/813 - 929s - loss: 1.0020 - accuracy: 0.6464 - val_loss: 1.0814 - val_accuracy: 0.6205\n",
            "Epoch 17/25\n",
            "813/813 - 934s - loss: 0.9453 - accuracy: 0.6689 - val_loss: 1.0250 - val_accuracy: 0.6429\n",
            "Epoch 18/25\n",
            "813/813 - 937s - loss: 0.8874 - accuracy: 0.6909 - val_loss: 0.9898 - val_accuracy: 0.6588\n",
            "Epoch 19/25\n",
            "813/813 - 944s - loss: 0.8394 - accuracy: 0.7070 - val_loss: 0.9524 - val_accuracy: 0.6715\n",
            "Epoch 20/25\n",
            "813/813 - 948s - loss: 0.7764 - accuracy: 0.7294 - val_loss: 0.9262 - val_accuracy: 0.6737\n",
            "Epoch 21/25\n",
            "813/813 - 933s - loss: 0.7304 - accuracy: 0.7470 - val_loss: 0.9563 - val_accuracy: 0.6734\n",
            "Epoch 22/25\n",
            "813/813 - 940s - loss: 0.6873 - accuracy: 0.7619 - val_loss: 0.9035 - val_accuracy: 0.6943\n",
            "Epoch 23/25\n",
            "813/813 - 947s - loss: 0.6359 - accuracy: 0.7824 - val_loss: 0.8755 - val_accuracy: 0.7035\n",
            "Epoch 24/25\n",
            "813/813 - 943s - loss: 0.5944 - accuracy: 0.7979 - val_loss: 0.8676 - val_accuracy: 0.7052\n",
            "Epoch 25/25\n",
            "813/813 - 934s - loss: 0.5534 - accuracy: 0.8116 - val_loss: 0.8880 - val_accuracy: 0.7061\n",
            "WARNING:tensorflow:From /usr/local/lib/python3.6/dist-packages/tensorflow/python/training/tracking/tracking.py:111: Model.state_updates (from tensorflow.python.keras.engine.training) is deprecated and will be removed in a future version.\n",
            "Instructions for updating:\n",
            "This property should not be used in TensorFlow 2.0, as updates are applied automatically.\n",
            "WARNING:tensorflow:From /usr/local/lib/python3.6/dist-packages/tensorflow/python/training/tracking/tracking.py:111: Layer.updates (from tensorflow.python.keras.engine.base_layer) is deprecated and will be removed in a future version.\n",
            "Instructions for updating:\n",
            "This property should not be used in TensorFlow 2.0, as updates are applied automatically.\n",
            "INFO:tensorflow:Assets written to: /content/drive/My Drive/SAP/model_embed_25_epochs/assets\n"
          ],
          "name": "stdout"
        }
      ]
    },
    {
      "cell_type": "markdown",
      "metadata": {
        "id": "LrLepfjpeDDO"
      },
      "source": [
        "*   plotting accuracy -> train_data vs. val_data\n",
        "*   plotting loss --> train loss vs. val loss"
      ]
    },
    {
      "cell_type": "code",
      "metadata": {
        "id": "iVA-eskVbGjh",
        "outputId": "72016a0f-cf1e-4d72-e077-89b0eb2dbcc8",
        "colab": {
          "base_uri": "https://localhost:8080/",
          "height": 541
        }
      },
      "source": [
        "# after training for 15 epochs, the model is overfitting (accuracy increases beyond 0.65, val_accuracy does not)\n",
        "# Therefore, EarlyStopping should be implemented\n",
        "\n",
        "def plot_graphs(history, string):\n",
        "  plt.plot(history.history[string])\n",
        "  plt.plot(history.history['val_'+string])\n",
        "  plt.xlabel(\"Epochs\")\n",
        "  plt.ylabel(string)\n",
        "  plt.legend([string, 'val_'+string])\n",
        "  plt.show()\n",
        "  \n",
        "plot_graphs(history, \"accuracy\")\n",
        "plot_graphs(history, \"loss\")"
      ],
      "execution_count": null,
      "outputs": [
        {
          "output_type": "display_data",
          "data": {
            "image/png": "[encoded data removed]",
            "text/plain": [
              "<Figure size 432x288 with 1 Axes>"
            ]
          },
          "metadata": {
            "tags": [],
            "needs_background": "light"
          }
        },
        {
          "output_type": "display_data",
          "data": {
            "image/png": "[encoded data removed]",
            "text/plain": [
              "<Figure size 432x288 with 1 Axes>"
            ]
          },
          "metadata": {
            "tags": [],
            "needs_background": "light"
          }
        }
      ]
    },
    {
      "cell_type": "code",
      "metadata": {
        "id": "w0PnyqqOjUaW"
      },
      "source": [
        "model = keras.models.load_model(\"/content/drive/My Drive/SAP/model_embed_25_epochs\")"
      ],
      "execution_count": null,
      "outputs": []
    },
    {
      "cell_type": "code",
      "metadata": {
        "id": "242a_eUCg9rR",
        "outputId": "cdeb56bc-a785-4633-d985-85a9ae8aa8da",
        "colab": {
          "base_uri": "https://localhost:8080/",
          "height": 422
        }
      },
      "source": [
        "keras.utils.plot_model(model, \"my_first_model_with_shape_info.png\", show_shapes=True)"
      ],
      "execution_count": null,
      "outputs": [
        {
          "output_type": "execute_result",
          "data": {
            "image/png": "[encoded data removed]",
            "text/plain": [
              "<IPython.core.display.Image object>"
            ]
          },
          "metadata": {
            "tags": []
          },
          "execution_count": 34
        }
      ]
    },
    {
      "cell_type": "code",
      "metadata": {
        "id": "EBhPqjjq6mHv",
        "outputId": "808524a1-6454-458e-8372-c53037cff957",
        "colab": {
          "base_uri": "https://localhost:8080/"
        }
      },
      "source": [
        "# implementing EarlyStopping\n",
        "# defining LSTM with activation function Softmax due to multi-class labeling; dense 12 because of 12 classes\n",
        "embed_dim = 128\n",
        "lstm_out = 200\n",
        "batch_size = 32\n",
        "\n",
        "model2 = Sequential()\n",
        "model2.add(Embedding(30, embed_dim,input_length = train_data.shape[1]))\n",
        "model2.add(LSTM(lstm_out))\n",
        "model2.add(Dense(12,activation='softmax'))\n",
        "#sparse categorical cross entropy: the labels are mutually exclusive for each data, meaning each data entry can only belong to one class.\n",
        "model2.compile(loss='sparse_categorical_crossentropy', optimizer='adam', metrics=['accuracy'])\n",
        "print(model2.summary())"
      ],
      "execution_count": null,
      "outputs": [
        {
          "output_type": "stream",
          "text": [
            "Model: \"sequential_1\"\n",
            "_________________________________________________________________\n",
            "Layer (type)                 Output Shape              Param #   \n",
            "=================================================================\n",
            "embedding_1 (Embedding)      (None, 430, 128)          3840      \n",
            "_________________________________________________________________\n",
            "lstm_1 (LSTM)                (None, 200)               263200    \n",
            "_________________________________________________________________\n",
            "dense_1 (Dense)              (None, 12)                2412      \n",
            "=================================================================\n",
            "Total params: 269,452\n",
            "Trainable params: 269,452\n",
            "Non-trainable params: 0\n",
            "_________________________________________________________________\n",
            "None\n"
          ],
          "name": "stdout"
        }
      ]
    },
    {
      "cell_type": "code",
      "metadata": {
        "id": "ddW1hEkZIiW9",
        "outputId": "78341fd0-b4b7-415b-cbb7-4fbac94d29ba",
        "colab": {
          "base_uri": "https://localhost:8080/"
        }
      },
      "source": [
        "# second model trained - with early stopping\n",
        "early_stopping_cb = keras.callbacks.EarlyStopping(patience=10,restore_best_weights=True)\n",
        "checkpoint_cb = keras.callbacks.ModelCheckpoint(\"LSTM_with_EarlyStopping.h5\",save_best_only=True)\n",
        "\n",
        "num_epochs = 100\n",
        "history2 = model2.fit(train_data, train_classes, epochs=num_epochs, validation_data=(val_data, val_classes), verbose=2,callbacks=[checkpoint_cb,early_stopping_cb])\n",
        "model2.save(\"/content/drive/My Drive/SAP/model_embed_25_epochs/LSTM_with_EarlyStopping.h5\")"
      ],
      "execution_count": null,
      "outputs": [
        {
          "output_type": "stream",
          "text": [
            "Epoch 1/100\n",
            "813/813 - 887s - loss: 2.3130 - accuracy: 0.1683 - val_loss: 2.3065 - val_accuracy: 0.1658\n",
            "Epoch 2/100\n",
            "813/813 - 866s - loss: 2.2687 - accuracy: 0.1917 - val_loss: 2.2301 - val_accuracy: 0.2013\n",
            "Epoch 3/100\n",
            "813/813 - 863s - loss: 2.1937 - accuracy: 0.2114 - val_loss: 2.1884 - val_accuracy: 0.2039\n",
            "Epoch 4/100\n",
            "813/813 - 844s - loss: 2.1770 - accuracy: 0.2124 - val_loss: 2.1624 - val_accuracy: 0.2062\n",
            "Epoch 5/100\n",
            "813/813 - 847s - loss: 2.1874 - accuracy: 0.2126 - val_loss: 2.1744 - val_accuracy: 0.2076\n",
            "Epoch 6/100\n",
            "813/813 - 858s - loss: 2.1571 - accuracy: 0.2185 - val_loss: 2.1714 - val_accuracy: 0.2054\n",
            "Epoch 7/100\n",
            "813/813 - 861s - loss: 2.1520 - accuracy: 0.2215 - val_loss: 2.1700 - val_accuracy: 0.2051\n",
            "Epoch 8/100\n",
            "813/813 - 858s - loss: 2.1444 - accuracy: 0.2268 - val_loss: 2.1534 - val_accuracy: 0.2130\n",
            "Epoch 9/100\n",
            "813/813 - 866s - loss: 1.9981 - accuracy: 0.2896 - val_loss: 1.8536 - val_accuracy: 0.3366\n",
            "Epoch 10/100\n",
            "813/813 - 884s - loss: 1.8425 - accuracy: 0.3412 - val_loss: 1.7937 - val_accuracy: 0.3440\n",
            "Epoch 11/100\n",
            "813/813 - 890s - loss: 1.7040 - accuracy: 0.3754 - val_loss: 1.6734 - val_accuracy: 0.3887\n",
            "Epoch 12/100\n",
            "813/813 - 890s - loss: 1.6741 - accuracy: 0.3972 - val_loss: 1.6158 - val_accuracy: 0.4123\n",
            "Epoch 13/100\n",
            "813/813 - 893s - loss: 1.5608 - accuracy: 0.4349 - val_loss: 1.5377 - val_accuracy: 0.4435\n",
            "Epoch 14/100\n",
            "813/813 - 892s - loss: 1.4962 - accuracy: 0.4639 - val_loss: 1.4881 - val_accuracy: 0.4706\n",
            "Epoch 15/100\n",
            "813/813 - 882s - loss: 1.4107 - accuracy: 0.5045 - val_loss: 1.4188 - val_accuracy: 0.5039\n",
            "Epoch 16/100\n",
            "813/813 - 882s - loss: 1.2989 - accuracy: 0.5473 - val_loss: 1.2588 - val_accuracy: 0.5657\n",
            "Epoch 17/100\n",
            "813/813 - 876s - loss: 1.1468 - accuracy: 0.6045 - val_loss: 1.1711 - val_accuracy: 0.5905\n",
            "Epoch 18/100\n",
            "813/813 - 882s - loss: 1.0310 - accuracy: 0.6445 - val_loss: 1.0675 - val_accuracy: 0.6240\n",
            "Epoch 19/100\n",
            "813/813 - 869s - loss: 0.9441 - accuracy: 0.6752 - val_loss: 0.9987 - val_accuracy: 0.6542\n",
            "Epoch 20/100\n",
            "813/813 - 860s - loss: 0.8551 - accuracy: 0.7078 - val_loss: 0.9609 - val_accuracy: 0.6777\n",
            "Epoch 21/100\n",
            "813/813 - 889s - loss: 0.7853 - accuracy: 0.7346 - val_loss: 0.8962 - val_accuracy: 0.7021\n",
            "Epoch 22/100\n",
            "813/813 - 891s - loss: 0.7178 - accuracy: 0.7549 - val_loss: 0.8966 - val_accuracy: 0.6978\n",
            "Epoch 23/100\n",
            "813/813 - 886s - loss: 0.6580 - accuracy: 0.7794 - val_loss: 0.8674 - val_accuracy: 0.7089\n",
            "Epoch 24/100\n",
            "813/813 - 881s - loss: 0.6080 - accuracy: 0.7929 - val_loss: 0.8795 - val_accuracy: 0.7109\n",
            "Epoch 25/100\n",
            "813/813 - 880s - loss: 0.5641 - accuracy: 0.8113 - val_loss: 0.8556 - val_accuracy: 0.7203\n",
            "Epoch 26/100\n",
            "813/813 - 900s - loss: 0.5114 - accuracy: 0.8295 - val_loss: 0.9112 - val_accuracy: 0.7204\n",
            "Epoch 27/100\n",
            "813/813 - 900s - loss: 0.4790 - accuracy: 0.8398 - val_loss: 0.9011 - val_accuracy: 0.7254\n",
            "Epoch 28/100\n",
            "813/813 - 902s - loss: 0.4409 - accuracy: 0.8514 - val_loss: 0.8531 - val_accuracy: 0.7295\n",
            "Epoch 29/100\n",
            "813/813 - 903s - loss: 0.4035 - accuracy: 0.8658 - val_loss: 0.8805 - val_accuracy: 0.7283\n",
            "Epoch 30/100\n",
            "813/813 - 916s - loss: 0.3815 - accuracy: 0.8719 - val_loss: 0.8736 - val_accuracy: 0.7375\n",
            "Epoch 31/100\n",
            "813/813 - 881s - loss: 0.3467 - accuracy: 0.8857 - val_loss: 0.8955 - val_accuracy: 0.7369\n",
            "Epoch 32/100\n",
            "813/813 - 872s - loss: 0.3175 - accuracy: 0.8955 - val_loss: 0.9422 - val_accuracy: 0.7323\n",
            "Epoch 33/100\n",
            "813/813 - 869s - loss: 0.2952 - accuracy: 0.9027 - val_loss: 1.0144 - val_accuracy: 0.7298\n",
            "Epoch 34/100\n",
            "813/813 - 887s - loss: 0.3044 - accuracy: 0.8982 - val_loss: 0.9789 - val_accuracy: 0.7404\n",
            "Epoch 35/100\n",
            "813/813 - 884s - loss: 0.2463 - accuracy: 0.9179 - val_loss: 1.0315 - val_accuracy: 0.7364\n",
            "Epoch 36/100\n",
            "813/813 - 876s - loss: 0.2410 - accuracy: 0.9217 - val_loss: 1.0023 - val_accuracy: 0.7387\n",
            "Epoch 37/100\n",
            "813/813 - 873s - loss: 0.2120 - accuracy: 0.9304 - val_loss: 1.0548 - val_accuracy: 0.7426\n",
            "Epoch 38/100\n",
            "813/813 - 886s - loss: 0.1989 - accuracy: 0.9346 - val_loss: 1.0764 - val_accuracy: 0.7414\n"
          ],
          "name": "stdout"
        }
      ]
    },
    {
      "cell_type": "code",
      "metadata": {
        "id": "vWDZ-EiedwDj",
        "outputId": "fddae660-db43-444f-9414-e18df288e70a",
        "colab": {
          "base_uri": "https://localhost:8080/",
          "height": 541
        }
      },
      "source": [
        "def plot_graphs(history, string):\n",
        "  plt.plot(history2.history[string])\n",
        "  plt.plot(history2.history['val_'+string])\n",
        "  plt.xlabel(\"Epochs\")\n",
        "  plt.ylabel(string)\n",
        "  plt.legend([string, 'val_'+string])\n",
        "  plt.show()\n",
        "  \n",
        "plot_graphs(history2, \"accuracy\")\n",
        "plot_graphs(history2, \"loss\")"
      ],
      "execution_count": null,
      "outputs": [
        {
          "output_type": "display_data",
          "data": {
            "image/png": "[encoded data removed]",
            "text/plain": [
              "<Figure size 432x288 with 1 Axes>"
            ]
          },
          "metadata": {
            "tags": [],
            "needs_background": "light"
          }
        },
        {
          "output_type": "display_data",
          "data": {
            "image/png": "[encoded data removed]",
            "text/plain": [
              "<Figure size 432x288 with 1 Axes>"
            ]
          },
          "metadata": {
            "tags": [],
            "needs_background": "light"
          }
        }
      ]
    },
    {
      "cell_type": "markdown",
      "metadata": {
        "id": "1ycTV4iF8n1-"
      },
      "source": [
        "## Evaluation of model using test data"
      ]
    },
    {
      "cell_type": "code",
      "metadata": {
        "id": "IT6WwrdfqPm2",
        "outputId": "3867bf40-6ce9-4d38-9c8b-0b2f589007d6",
        "colab": {
          "base_uri": "https://localhost:8080/"
        }
      },
      "source": [
        "# Evaluate the model on the test data using `evaluate`\n",
        "print(\"Evaluate on test data\")\n",
        "results = model2.evaluate(train_data, train_classes, batch_size=32)\n",
        "print(\"test loss, test acc:\", results)\n",
        "\n",
        "# Generate predictions (probabilities -- the output of the last layer)\n",
        "# on new data using `predict`\n",
        "print(\"Generate predictions for 3 samples\")\n",
        "predictions = model2.predict(train_data[:3])\n",
        "print(\"predictions shape:\", predictions.shape)\n"
      ],
      "execution_count": null,
      "outputs": [
        {
          "output_type": "stream",
          "text": [
            "Evaluate on test data\n",
            "813/813 [==============================] - 254s 313ms/step - loss: 0.4028 - accuracy: 0.8716\n",
            "test loss, test acc: [0.4028379023075104, 0.871587872505188]\n",
            "Generate predictions for 3 samples\n",
            "predictions shape: (3, 12)\n"
          ],
          "name": "stdout"
        }
      ]
    },
    {
      "cell_type": "markdown",
      "metadata": {
        "id": "irVfLBrHMyQM"
      },
      "source": [
        "# Validation"
      ]
    },
    {
      "cell_type": "markdown",
      "metadata": {
        "id": "E2jRh5VXlGkn"
      },
      "source": [
        "Now, predictions are made on test_data"
      ]
    },
    {
      "cell_type": "code",
      "metadata": {
        "id": "gXsSgZuOkP_I",
        "outputId": "05489f59-c0a9-4d26-e172-a08c1d63d80c",
        "colab": {
          "base_uri": "https://localhost:8080/"
        }
      },
      "source": [
        "# make a prediction\n",
        "test_classes = model2.predict_classes(test_data)\n",
        "# show the inputs and predicted outputs\n",
        "print(\"X=%s, Predicted=%s\" % (test_data, test_classes))"
      ],
      "execution_count": null,
      "outputs": [
        {
          "output_type": "stream",
          "text": [
            "X=[[ 9  5  7 ... 13  0  0]\n",
            " [14  5  4 ...  0  0  0]\n",
            " [ 9  8 12 ...  0  0  0]\n",
            " ...\n",
            " [ 6 19  4 ...  0  0  0]\n",
            " [16 13  5 ...  0  0  0]\n",
            " [ 9  8 12 ...  0  0  0]], Predicted=[ 6  1  8 ...  2  7 11]\n"
          ],
          "name": "stdout"
        }
      ]
    },
    {
      "cell_type": "code",
      "metadata": {
        "id": "seo2Ei4IiJV9",
        "outputId": "a4c9024a-e9b2-4ae1-f555-16b93e3aeda4",
        "colab": {
          "base_uri": "https://localhost:8080/"
        }
      },
      "source": [
        "test_classes.shape"
      ],
      "execution_count": null,
      "outputs": [
        {
          "output_type": "execute_result",
          "data": {
            "text/plain": [
              "(3000,)"
            ]
          },
          "metadata": {
            "tags": []
          },
          "execution_count": 52
        }
      ]
    },
    {
      "cell_type": "code",
      "metadata": {
        "id": "QWdF743coNuH"
      },
      "source": [
        "# it is not necessary to revert the numerical encoding, using the original x_test instead\n",
        "#text = tk.sequences_to_texts(test_data)"
      ],
      "execution_count": null,
      "outputs": []
    },
    {
      "cell_type": "code",
      "metadata": {
        "id": "QifhkWtghSww"
      },
      "source": [
        "# test_classes are converted to Series - to be able to concat with test_data\n",
        "classes = pd.Series(test_classes)"
      ],
      "execution_count": null,
      "outputs": []
    },
    {
      "cell_type": "code",
      "metadata": {
        "id": "Wq4ceZGCtB23",
        "outputId": "7a7692d2-7f72-4324-b931-1435dd4ed94e",
        "colab": {
          "base_uri": "https://localhost:8080/"
        }
      },
      "source": [
        "#classes = test_classes.tolist()\n",
        "print(type(classes))\n",
        "print(type(x_test))"
      ],
      "execution_count": null,
      "outputs": [
        {
          "output_type": "stream",
          "text": [
            "<class 'pandas.core.series.Series'>\n",
            "<class 'pandas.core.series.Series'>\n"
          ],
          "name": "stdout"
        }
      ]
    },
    {
      "cell_type": "code",
      "metadata": {
        "id": "EFxSSDOatGln"
      },
      "source": [
        "df = pd.concat([classes,x_test],axis=1)"
      ],
      "execution_count": null,
      "outputs": []
    },
    {
      "cell_type": "code",
      "metadata": {
        "id": "509vf6n0jfld",
        "outputId": "f1b36beb-801c-49e5-abdf-009b87c4f9b8",
        "colab": {
          "base_uri": "https://localhost:8080/",
          "height": 202
        }
      },
      "source": [
        "df.head()"
      ],
      "execution_count": null,
      "outputs": [
        {
          "output_type": "execute_result",
          "data": {
            "text/html": [
              "<div>\n",
              "<style scoped>\n",
              "    .dataframe tbody tr th:only-of-type {\n",
              "        vertical-align: middle;\n",
              "    }\n",
              "\n",
              "    .dataframe tbody tr th {\n",
              "        vertical-align: top;\n",
              "    }\n",
              "\n",
              "    .dataframe thead th {\n",
              "        text-align: right;\n",
              "    }\n",
              "</style>\n",
              "<table border=\"1\" class=\"dataframe\">\n",
              "  <thead>\n",
              "    <tr style=\"text-align: right;\">\n",
              "      <th></th>\n",
              "      <th>0</th>\n",
              "      <th>0</th>\n",
              "    </tr>\n",
              "  </thead>\n",
              "  <tbody>\n",
              "    <tr>\n",
              "      <th>0</th>\n",
              "      <td>6</td>\n",
              "      <td>tvletwgzkrqvuhtwamuluhpkskpmpmiwtvuhamqvmviwlr...</td>\n",
              "    </tr>\n",
              "    <tr>\n",
              "      <th>1</th>\n",
              "      <td>1</td>\n",
              "      <td>qvmvuhskleenmvviengzxyuhqvmvamguuhrakrpmsauhul...</td>\n",
              "    </tr>\n",
              "    <tr>\n",
              "      <th>2</th>\n",
              "      <td>8</td>\n",
              "      <td>twamuhulenamuluhskvienuhqgdftwmvmkletwulvimvuh...</td>\n",
              "    </tr>\n",
              "    <tr>\n",
              "      <th>3</th>\n",
              "      <td>8</td>\n",
              "      <td>sooatwqvvitwqvvipmviuhoaampmpmmwuhuhraulvikrpm...</td>\n",
              "    </tr>\n",
              "    <tr>\n",
              "      <th>4</th>\n",
              "      <td>4</td>\n",
              "      <td>lepmuhpmdfuluhtwletwdfuhtwletwamguuhuhraezpmpm...</td>\n",
              "    </tr>\n",
              "  </tbody>\n",
              "</table>\n",
              "</div>"
            ],
            "text/plain": [
              "   0                                                  0\n",
              "0  6  tvletwgzkrqvuhtwamuluhpkskpmpmiwtvuhamqvmviwlr...\n",
              "1  1  qvmvuhskleenmvviengzxyuhqvmvamguuhrakrpmsauhul...\n",
              "2  8  twamuhulenamuluhskvienuhqgdftwmvmkletwulvimvuh...\n",
              "3  8  sooatwqvvitwqvvipmviuhoaampmpmmwuhuhraulvikrpm...\n",
              "4  4  lepmuhpmdfuluhtwletwdfuhtwletwamguuhuhraezpmpm..."
            ]
          },
          "metadata": {
            "tags": []
          },
          "execution_count": 56
        }
      ]
    },
    {
      "cell_type": "code",
      "metadata": {
        "id": "xgRfLhqsvgSR"
      },
      "source": [
        "df.to_csv(\"/content/drive/My Drive/SAP/prediction_bohle.txt\",index=False)"
      ],
      "execution_count": null,
      "outputs": []
    }
  ]
}